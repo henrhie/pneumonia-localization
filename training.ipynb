{
  "nbformat": 4,
  "nbformat_minor": 0,
  "metadata": {
    "colab": {
      "name": "training.ipynb",
      "version": "0.3.2",
      "provenance": [],
      "toc_visible": true
    },
    "kernelspec": {
      "name": "python3",
      "display_name": "Python 3"
    },
    "accelerator": "GPU"
  },
  "cells": [
    {
      "metadata": {
        "id": "zqdKHmhsl8FL",
        "colab_type": "code",
        "colab": {
          "base_uri": "https://localhost:8080/",
          "height": 36
        },
        "outputId": "0dc754e5-f33f-4995-c0f1-466e5baa1fa3"
      },
      "cell_type": "code",
      "source": [
        "import keras\n",
        "from keras.applications.inception_v3 import InceptionV3\n",
        "from keras.applications.resnet50 import ResNet50\n",
        "from keras.applications.vgg16 import VGG16\n",
        "from keras.layers import GlobalAveragePooling2D,Input, Dense, Dropout\n",
        "from keras import Model\n",
        "from keras.preprocessing.image import ImageDataGenerator\n",
        "from keras.models import load_model\n",
        "from keras.optimizers import Adadelta\n",
        "from google.colab import drive\n",
        "drive.mount('/content/gdrive')"
      ],
      "execution_count": 14,
      "outputs": [
        {
          "output_type": "stream",
          "text": [
            "Mounted at /content/gdrive\n"
          ],
          "name": "stdout"
        }
      ]
    },
    {
      "metadata": {
        "id": "sQCz6uqtsBUm",
        "colab_type": "code",
        "colab": {}
      },
      "cell_type": "code",
      "source": [
        "from keras.layers import Dropout\n",
        "import tensorflow as tf\n",
        "from keras.callbacks import ModelCheckpoint\n",
        "from keras.callbacks import EarlyStopping"
      ],
      "execution_count": 0,
      "outputs": []
    },
    {
      "metadata": {
        "id": "Zh5uepwJV66n",
        "colab_type": "code",
        "colab": {}
      },
      "cell_type": "code",
      "source": [
        "def get_vgg16(num_classes, input_shape):\n",
        "  input_tensor = Input(input_shape)\n",
        "  base_model = VGG16(input_tensor=input_tensor,include_top = False)\n",
        "  for layers in base_model.layers:\n",
        "    layers.trainable = False\n",
        "  X = base_model.output\n",
        "  X = GlobalAveragePooling2D(data_format=\"channels_last\")(X)\n",
        "  X = Dense(num_classes, activation=\"softmax\",kernel_regularizer = keras.regularizers.l2(0.01))(X)\n",
        "  new_model = Model(base_model.input,X)\n",
        "  return new_model"
      ],
      "execution_count": 0,
      "outputs": []
    },
    {
      "metadata": {
        "id": "Aj09-23mnfDY",
        "colab_type": "code",
        "colab": {
          "base_uri": "https://localhost:8080/",
          "height": 75
        },
        "outputId": "c9a8d9d1-7dce-420f-9131-7c5f839ff5a6"
      },
      "cell_type": "code",
      "source": [
        "model = get_vgg16(num_classes=2,input_shape=(250,250,3))"
      ],
      "execution_count": 4,
      "outputs": [
        {
          "output_type": "stream",
          "text": [
            "Downloading data from https://github.com/fchollet/deep-learning-models/releases/download/v0.1/vgg16_weights_tf_dim_ordering_tf_kernels_notop.h5\n",
            "58892288/58889256 [==============================] - 1s 0us/step\n"
          ],
          "name": "stdout"
        }
      ]
    },
    {
      "metadata": {
        "id": "ucnHqwq5pGnt",
        "colab_type": "code",
        "colab": {}
      },
      "cell_type": "code",
      "source": [
        "train_path = \"gdrive/My Drive/chest_xray/train\"\n",
        "test_path =\"gdrive/My Drive/chest_xray/test\"\n",
        "val_path =\"gdrive/My Drive/chest_xray/val\""
      ],
      "execution_count": 0,
      "outputs": []
    },
    {
      "metadata": {
        "id": "aMnBATZPv0z7",
        "colab_type": "code",
        "colab": {}
      },
      "cell_type": "code",
      "source": [
        "train_gen = ImageDataGenerator()"
      ],
      "execution_count": 0,
      "outputs": []
    },
    {
      "metadata": {
        "id": "XfwvNTYZPOMF",
        "colab_type": "code",
        "colab": {
          "base_uri": "https://localhost:8080/",
          "height": 36
        },
        "outputId": "333947be-fc80-411a-ea4a-b328e976e2c3"
      },
      "cell_type": "code",
      "source": [
        "test_data = ImageDataGenerator().flow_from_directory(test_path, target_size=(250,250),batch_size=64)"
      ],
      "execution_count": 7,
      "outputs": [
        {
          "output_type": "stream",
          "text": [
            "Found 624 images belonging to 2 classes.\n"
          ],
          "name": "stdout"
        }
      ]
    },
    {
      "metadata": {
        "id": "hluJrvhFPR9L",
        "colab_type": "code",
        "colab": {
          "base_uri": "https://localhost:8080/",
          "height": 36
        },
        "outputId": "12970718-6185-4ffc-a764-947809f073f7"
      },
      "cell_type": "code",
      "source": [
        "train_data = train_gen.flow_from_directory(train_path, target_size=(250,250), batch_size=64)"
      ],
      "execution_count": 8,
      "outputs": [
        {
          "output_type": "stream",
          "text": [
            "Found 5433 images belonging to 2 classes.\n"
          ],
          "name": "stdout"
        }
      ]
    },
    {
      "metadata": {
        "id": "z5NAEIcrfolS",
        "colab_type": "code",
        "colab": {
          "base_uri": "https://localhost:8080/",
          "height": 36
        },
        "outputId": "50efd2eb-32c4-45da-98ac-e9b3ed646a1d"
      },
      "cell_type": "code",
      "source": [
        "val_data = train_gen.flow_from_directory(val_path, target_size=(250,250), batch_size=64)"
      ],
      "execution_count": 9,
      "outputs": [
        {
          "output_type": "stream",
          "text": [
            "Found 16 images belonging to 2 classes.\n"
          ],
          "name": "stdout"
        }
      ]
    },
    {
      "metadata": {
        "id": "YR-oN6mJycJA",
        "colab_type": "code",
        "colab": {}
      },
      "cell_type": "code",
      "source": [
        "mcp_save = ModelCheckpoint('/content/gdrive/My Drive/best_model.h5', save_best_only=True, monitor='val_loss', mode='min')\n",
        "model.compile(loss=\"categorical_crossentropy\",optimizer=\"adadelta\",metrics=[\"accuracy\"])"
      ],
      "execution_count": 0,
      "outputs": []
    },
    {
      "metadata": {
        "id": "C5wt0TWvAlkX",
        "colab_type": "code",
        "colab": {
          "base_uri": "https://localhost:8080/",
          "height": 3806
        },
        "outputId": "2fffea6f-fe58-423f-d7b0-acbc16089dde"
      },
      "cell_type": "code",
      "source": [
        "model.fit_generator(train_data, epochs=100, validation_data=test_data,verbose=1,callbacks=[mcp_save])"
      ],
      "execution_count": 11,
      "outputs": [
        {
          "output_type": "stream",
          "text": [
            "Epoch 1/100\n",
            "85/85 [==============================] - 2041s 24s/step - loss: 0.5459 - acc: 0.8268 - val_loss: 0.8223 - val_acc: 0.7612\n",
            "Epoch 2/100\n",
            "85/85 [==============================] - 109s 1s/step - loss: 0.2411 - acc: 0.9251 - val_loss: 0.9010 - val_acc: 0.7644\n",
            "Epoch 3/100\n",
            "85/85 [==============================] - 105s 1s/step - loss: 0.1845 - acc: 0.9446 - val_loss: 0.4649 - val_acc: 0.8494\n",
            "Epoch 4/100\n",
            "85/85 [==============================] - 105s 1s/step - loss: 0.1619 - acc: 0.9516 - val_loss: 0.6526 - val_acc: 0.8093\n",
            "Epoch 5/100\n",
            "85/85 [==============================] - 107s 1s/step - loss: 0.1419 - acc: 0.9582 - val_loss: 0.6896 - val_acc: 0.7997\n",
            "Epoch 6/100\n",
            "85/85 [==============================] - 106s 1s/step - loss: 0.1312 - acc: 0.9628 - val_loss: 0.4507 - val_acc: 0.8622\n",
            "Epoch 7/100\n",
            "85/85 [==============================] - 110s 1s/step - loss: 0.1149 - acc: 0.9632 - val_loss: 0.9061 - val_acc: 0.7596\n",
            "Epoch 8/100\n",
            "85/85 [==============================] - 108s 1s/step - loss: 0.1175 - acc: 0.9634 - val_loss: 0.9391 - val_acc: 0.7532\n",
            "Epoch 9/100\n",
            "85/85 [==============================] - 104s 1s/step - loss: 0.1106 - acc: 0.9655 - val_loss: 0.9737 - val_acc: 0.7468\n",
            "Epoch 10/100\n",
            "85/85 [==============================] - 105s 1s/step - loss: 0.1050 - acc: 0.9706 - val_loss: 0.4453 - val_acc: 0.8542\n",
            "Epoch 11/100\n",
            "85/85 [==============================] - 108s 1s/step - loss: 0.1002 - acc: 0.9704 - val_loss: 0.6474 - val_acc: 0.8141\n",
            "Epoch 12/100\n",
            "85/85 [==============================] - 107s 1s/step - loss: 0.0945 - acc: 0.9735 - val_loss: 0.7381 - val_acc: 0.7901\n",
            "Epoch 13/100\n",
            "85/85 [==============================] - 117s 1s/step - loss: 0.0938 - acc: 0.9735 - val_loss: 0.8209 - val_acc: 0.7788\n",
            "Epoch 14/100\n",
            "85/85 [==============================] - 115s 1s/step - loss: 0.0940 - acc: 0.9727 - val_loss: 0.9628 - val_acc: 0.7468\n",
            "Epoch 15/100\n",
            "85/85 [==============================] - 105s 1s/step - loss: 0.0884 - acc: 0.9739 - val_loss: 0.7442 - val_acc: 0.7949\n",
            "Epoch 16/100\n",
            "85/85 [==============================] - 106s 1s/step - loss: 0.0910 - acc: 0.9732 - val_loss: 0.7322 - val_acc: 0.7965\n",
            "Epoch 17/100\n",
            "85/85 [==============================] - 108s 1s/step - loss: 0.0909 - acc: 0.9726 - val_loss: 0.5985 - val_acc: 0.8269\n",
            "Epoch 18/100\n",
            "85/85 [==============================] - 105s 1s/step - loss: 0.0844 - acc: 0.9742 - val_loss: 0.9548 - val_acc: 0.7548\n",
            "Epoch 19/100\n",
            "85/85 [==============================] - 111s 1s/step - loss: 0.0840 - acc: 0.9755 - val_loss: 0.7009 - val_acc: 0.8029\n",
            "Epoch 20/100\n",
            "85/85 [==============================] - 115s 1s/step - loss: 0.0837 - acc: 0.9757 - val_loss: 1.1002 - val_acc: 0.7292\n",
            "Epoch 21/100\n",
            "85/85 [==============================] - 104s 1s/step - loss: 0.0845 - acc: 0.9742 - val_loss: 0.5268 - val_acc: 0.8494\n",
            "Epoch 22/100\n",
            "85/85 [==============================] - 106s 1s/step - loss: 0.0863 - acc: 0.9744 - val_loss: 0.6342 - val_acc: 0.8141\n",
            "Epoch 23/100\n",
            "85/85 [==============================] - 108s 1s/step - loss: 0.0751 - acc: 0.9790 - val_loss: 0.8807 - val_acc: 0.7644\n",
            "Epoch 24/100\n",
            "85/85 [==============================] - 106s 1s/step - loss: 0.0832 - acc: 0.9788 - val_loss: 0.9326 - val_acc: 0.7548\n",
            "Epoch 25/100\n",
            "85/85 [==============================] - 111s 1s/step - loss: 0.0791 - acc: 0.9772 - val_loss: 0.6245 - val_acc: 0.8285\n",
            "Epoch 26/100\n",
            "85/85 [==============================] - 115s 1s/step - loss: 0.0867 - acc: 0.9735 - val_loss: 0.7216 - val_acc: 0.7965\n",
            "Epoch 27/100\n",
            "85/85 [==============================] - 107s 1s/step - loss: 0.0750 - acc: 0.9806 - val_loss: 1.4274 - val_acc: 0.7067\n",
            "Epoch 28/100\n",
            "85/85 [==============================] - 106s 1s/step - loss: 0.0833 - acc: 0.9757 - val_loss: 1.2667 - val_acc: 0.7212\n",
            "Epoch 29/100\n",
            "85/85 [==============================] - 107s 1s/step - loss: 0.0780 - acc: 0.9761 - val_loss: 0.6313 - val_acc: 0.8253\n",
            "Epoch 30/100\n",
            "85/85 [==============================] - 107s 1s/step - loss: 0.0811 - acc: 0.9788 - val_loss: 0.5529 - val_acc: 0.8333\n",
            "Epoch 31/100\n",
            "85/85 [==============================] - 115s 1s/step - loss: 0.0800 - acc: 0.9759 - val_loss: 0.5819 - val_acc: 0.8397\n",
            "Epoch 32/100\n",
            "85/85 [==============================] - 108s 1s/step - loss: 0.0782 - acc: 0.9777 - val_loss: 0.8234 - val_acc: 0.7772\n",
            "Epoch 33/100\n",
            "85/85 [==============================] - 107s 1s/step - loss: 0.0721 - acc: 0.9796 - val_loss: 0.7055 - val_acc: 0.8045\n",
            "Epoch 34/100\n",
            "85/85 [==============================] - 108s 1s/step - loss: 0.0748 - acc: 0.9798 - val_loss: 1.2595 - val_acc: 0.7179\n",
            "Epoch 35/100\n",
            "85/85 [==============================] - 110s 1s/step - loss: 0.0776 - acc: 0.9787 - val_loss: 0.7779 - val_acc: 0.7837\n",
            "Epoch 36/100\n",
            "85/85 [==============================] - 110s 1s/step - loss: 0.0756 - acc: 0.9776 - val_loss: 0.7928 - val_acc: 0.7772\n",
            "Epoch 37/100\n",
            "85/85 [==============================] - 105s 1s/step - loss: 0.0737 - acc: 0.9781 - val_loss: 0.5329 - val_acc: 0.8446\n",
            "Epoch 38/100\n",
            "85/85 [==============================] - 108s 1s/step - loss: 0.0854 - acc: 0.9762 - val_loss: 0.6654 - val_acc: 0.8157\n",
            "Epoch 39/100\n",
            "85/85 [==============================] - 107s 1s/step - loss: 0.0730 - acc: 0.9787 - val_loss: 0.7564 - val_acc: 0.7869\n",
            "Epoch 40/100\n",
            "85/85 [==============================] - 111s 1s/step - loss: 0.0740 - acc: 0.9801 - val_loss: 0.5687 - val_acc: 0.8381\n",
            "Epoch 41/100\n",
            "85/85 [==============================] - 113s 1s/step - loss: 0.0777 - acc: 0.9755 - val_loss: 0.5291 - val_acc: 0.8429\n",
            "Epoch 42/100\n",
            "85/85 [==============================] - 107s 1s/step - loss: 0.0710 - acc: 0.9814 - val_loss: 0.6025 - val_acc: 0.8301\n",
            "Epoch 43/100\n",
            "85/85 [==============================] - 106s 1s/step - loss: 0.0728 - acc: 0.9799 - val_loss: 0.6178 - val_acc: 0.8301\n",
            "Epoch 44/100\n",
            "85/85 [==============================] - 107s 1s/step - loss: 0.0791 - acc: 0.9776 - val_loss: 0.9516 - val_acc: 0.7548\n",
            "Epoch 45/100\n",
            "85/85 [==============================] - 106s 1s/step - loss: 0.0709 - acc: 0.9797 - val_loss: 0.9409 - val_acc: 0.7532\n",
            "Epoch 46/100\n",
            "85/85 [==============================] - 112s 1s/step - loss: 0.0740 - acc: 0.9798 - val_loss: 0.5510 - val_acc: 0.8462\n",
            "Epoch 47/100\n",
            "85/85 [==============================] - 110s 1s/step - loss: 0.0727 - acc: 0.9779 - val_loss: 0.8102 - val_acc: 0.7788\n",
            "Epoch 48/100\n",
            "85/85 [==============================] - 107s 1s/step - loss: 0.0744 - acc: 0.9777 - val_loss: 0.6058 - val_acc: 0.8349\n",
            "Epoch 49/100\n",
            "85/85 [==============================] - 109s 1s/step - loss: 0.0740 - acc: 0.9797 - val_loss: 1.2318 - val_acc: 0.7179\n",
            "Epoch 50/100\n",
            "85/85 [==============================] - 108s 1s/step - loss: 0.0688 - acc: 0.9790 - val_loss: 0.9156 - val_acc: 0.7596\n",
            "Epoch 51/100\n",
            "85/85 [==============================] - 112s 1s/step - loss: 0.0784 - acc: 0.9764 - val_loss: 0.8160 - val_acc: 0.7821\n",
            "Epoch 52/100\n",
            "85/85 [==============================] - 107s 1s/step - loss: 0.0738 - acc: 0.9781 - val_loss: 0.6932 - val_acc: 0.8077\n",
            "Epoch 53/100\n",
            "85/85 [==============================] - 105s 1s/step - loss: 0.0675 - acc: 0.9799 - val_loss: 0.5773 - val_acc: 0.8333\n",
            "Epoch 54/100\n",
            "85/85 [==============================] - 109s 1s/step - loss: 0.0719 - acc: 0.9801 - val_loss: 1.0404 - val_acc: 0.7420\n",
            "Epoch 55/100\n",
            "85/85 [==============================] - 108s 1s/step - loss: 0.0729 - acc: 0.9790 - val_loss: 0.9241 - val_acc: 0.7628\n",
            "Epoch 56/100\n",
            "85/85 [==============================] - 112s 1s/step - loss: 0.0722 - acc: 0.9792 - val_loss: 1.0538 - val_acc: 0.7420\n",
            "Epoch 57/100\n",
            "85/85 [==============================] - 109s 1s/step - loss: 0.0719 - acc: 0.9796 - val_loss: 0.8104 - val_acc: 0.7804\n",
            "Epoch 58/100\n",
            "85/85 [==============================] - 104s 1s/step - loss: 0.0739 - acc: 0.9797 - val_loss: 0.8361 - val_acc: 0.7740\n",
            "Epoch 59/100\n",
            "85/85 [==============================] - 107s 1s/step - loss: 0.0702 - acc: 0.9799 - val_loss: 0.4346 - val_acc: 0.8606\n",
            "Epoch 60/100\n",
            "85/85 [==============================] - 108s 1s/step - loss: 0.0718 - acc: 0.9782 - val_loss: 0.8890 - val_acc: 0.7708\n",
            "Epoch 61/100\n",
            "85/85 [==============================] - 108s 1s/step - loss: 0.0729 - acc: 0.9788 - val_loss: 0.3434 - val_acc: 0.8862\n",
            "Epoch 62/100\n",
            "85/85 [==============================] - 114s 1s/step - loss: 0.0754 - acc: 0.9796 - val_loss: 0.9563 - val_acc: 0.7580\n",
            "Epoch 63/100\n",
            "85/85 [==============================] - 112s 1s/step - loss: 0.0697 - acc: 0.9783 - val_loss: 0.6887 - val_acc: 0.8093\n",
            "Epoch 64/100\n",
            "85/85 [==============================] - 106s 1s/step - loss: 0.0757 - acc: 0.9799 - val_loss: 0.4830 - val_acc: 0.8542\n",
            "Epoch 65/100\n",
            "85/85 [==============================] - 108s 1s/step - loss: 0.0679 - acc: 0.9818 - val_loss: 1.2930 - val_acc: 0.7099\n",
            "Epoch 66/100\n",
            "85/85 [==============================] - 105s 1s/step - loss: 0.0724 - acc: 0.9801 - val_loss: 0.7246 - val_acc: 0.8093\n",
            "Epoch 67/100\n",
            "85/85 [==============================] - 108s 1s/step - loss: 0.0796 - acc: 0.9743 - val_loss: 1.0096 - val_acc: 0.7468\n",
            "Epoch 68/100\n",
            "85/85 [==============================] - 112s 1s/step - loss: 0.0722 - acc: 0.9783 - val_loss: 0.6692 - val_acc: 0.8189\n",
            "Epoch 69/100\n",
            "85/85 [==============================] - 106s 1s/step - loss: 0.0687 - acc: 0.9799 - val_loss: 0.6564 - val_acc: 0.8189\n",
            "Epoch 70/100\n",
            "85/85 [==============================] - 105s 1s/step - loss: 0.0736 - acc: 0.9776 - val_loss: 0.5939 - val_acc: 0.8365\n",
            "Epoch 71/100\n",
            "85/85 [==============================] - 106s 1s/step - loss: 0.0700 - acc: 0.9794 - val_loss: 0.7691 - val_acc: 0.7772\n",
            "Epoch 72/100\n",
            "85/85 [==============================] - 105s 1s/step - loss: 0.0714 - acc: 0.9790 - val_loss: 0.9558 - val_acc: 0.7548\n",
            "Epoch 73/100\n",
            "85/85 [==============================] - 109s 1s/step - loss: 0.0703 - acc: 0.9807 - val_loss: 0.9089 - val_acc: 0.7596\n",
            "Epoch 74/100\n",
            "85/85 [==============================] - 112s 1s/step - loss: 0.0754 - acc: 0.9770 - val_loss: 0.7931 - val_acc: 0.7885\n",
            "Epoch 75/100\n",
            "85/85 [==============================] - 106s 1s/step - loss: 0.0760 - acc: 0.9766 - val_loss: 0.7261 - val_acc: 0.7997\n",
            "Epoch 76/100\n",
            "85/85 [==============================] - 105s 1s/step - loss: 0.0736 - acc: 0.9784 - val_loss: 0.6588 - val_acc: 0.8173\n",
            "Epoch 77/100\n",
            "85/85 [==============================] - 109s 1s/step - loss: 0.0690 - acc: 0.9801 - val_loss: 0.8372 - val_acc: 0.7788\n",
            "Epoch 78/100\n",
            "85/85 [==============================] - 106s 1s/step - loss: 0.0741 - acc: 0.9785 - val_loss: 0.7428 - val_acc: 0.7997\n",
            "Epoch 79/100\n",
            "85/85 [==============================] - 110s 1s/step - loss: 0.0705 - acc: 0.9801 - val_loss: 1.3246 - val_acc: 0.7083\n",
            "Epoch 80/100\n",
            "85/85 [==============================] - 111s 1s/step - loss: 0.0743 - acc: 0.9776 - val_loss: 0.6935 - val_acc: 0.8093\n",
            "Epoch 81/100\n",
            "85/85 [==============================] - 105s 1s/step - loss: 0.0721 - acc: 0.9792 - val_loss: 1.2950 - val_acc: 0.7115\n",
            "Epoch 82/100\n",
            "85/85 [==============================] - 106s 1s/step - loss: 0.0704 - acc: 0.9796 - val_loss: 0.7078 - val_acc: 0.8061\n",
            "Epoch 83/100\n",
            "85/85 [==============================] - 109s 1s/step - loss: 0.0692 - acc: 0.9789 - val_loss: 1.3308 - val_acc: 0.7099\n",
            "Epoch 84/100\n",
            "85/85 [==============================] - 107s 1s/step - loss: 0.0724 - acc: 0.9792 - val_loss: 0.5875 - val_acc: 0.8317\n",
            "Epoch 85/100\n",
            "85/85 [==============================] - 112s 1s/step - loss: 0.0706 - acc: 0.9788 - val_loss: 0.9356 - val_acc: 0.7580\n",
            "Epoch 86/100\n",
            "85/85 [==============================] - 110s 1s/step - loss: 0.0805 - acc: 0.9751 - val_loss: 0.9770 - val_acc: 0.7500\n",
            "Epoch 87/100\n",
            "85/85 [==============================] - 105s 1s/step - loss: 0.0705 - acc: 0.9783 - val_loss: 1.2711 - val_acc: 0.7179\n",
            "Epoch 88/100\n",
            "85/85 [==============================] - 107s 1s/step - loss: 0.0709 - acc: 0.9782 - val_loss: 0.7367 - val_acc: 0.7965\n",
            "Epoch 89/100\n",
            "85/85 [==============================] - 108s 1s/step - loss: 0.0740 - acc: 0.9773 - val_loss: 1.2576 - val_acc: 0.7147\n",
            "Epoch 90/100\n",
            "85/85 [==============================] - 107s 1s/step - loss: 0.0674 - acc: 0.9811 - val_loss: 0.8351 - val_acc: 0.7772\n",
            "Epoch 91/100\n",
            "85/85 [==============================] - 111s 1s/step - loss: 0.0683 - acc: 0.9799 - val_loss: 0.6025 - val_acc: 0.8237\n",
            "Epoch 92/100\n",
            "85/85 [==============================] - 107s 1s/step - loss: 0.0715 - acc: 0.9788 - val_loss: 0.5898 - val_acc: 0.8381\n",
            "Epoch 93/100\n",
            "85/85 [==============================] - 105s 1s/step - loss: 0.0703 - acc: 0.9796 - val_loss: 0.5869 - val_acc: 0.8349\n",
            "Epoch 94/100\n",
            "85/85 [==============================] - 109s 1s/step - loss: 0.0739 - acc: 0.9790 - val_loss: 0.4864 - val_acc: 0.8526\n",
            "Epoch 95/100\n",
            "85/85 [==============================] - 106s 1s/step - loss: 0.0696 - acc: 0.9809 - val_loss: 0.7377 - val_acc: 0.7997\n",
            "Epoch 96/100\n",
            "85/85 [==============================] - 108s 1s/step - loss: 0.0677 - acc: 0.9809 - val_loss: 0.6267 - val_acc: 0.8285\n",
            "Epoch 97/100\n",
            "85/85 [==============================] - 112s 1s/step - loss: 0.0710 - acc: 0.9798 - val_loss: 0.8074 - val_acc: 0.7869\n",
            "Epoch 98/100\n",
            "85/85 [==============================] - 106s 1s/step - loss: 0.0686 - acc: 0.9809 - val_loss: 0.9509 - val_acc: 0.7564\n",
            "Epoch 99/100\n",
            "85/85 [==============================] - 107s 1s/step - loss: 0.0762 - acc: 0.9768 - val_loss: 0.7692 - val_acc: 0.7869\n",
            "Epoch 100/100\n",
            "85/85 [==============================] - 108s 1s/step - loss: 0.0682 - acc: 0.9803 - val_loss: 0.9392 - val_acc: 0.7612\n"
          ],
          "name": "stdout"
        },
        {
          "output_type": "execute_result",
          "data": {
            "text/plain": [
              "<keras.callbacks.History at 0x7f6158305518>"
            ]
          },
          "metadata": {
            "tags": []
          },
          "execution_count": 11
        }
      ]
    },
    {
      "metadata": {
        "id": "rBr6yyi-eRQj",
        "colab_type": "code",
        "colab": {}
      },
      "cell_type": "code",
      "source": [
        "model = load_model(\"/content/gdrive/My Drive/best_model.h5\")"
      ],
      "execution_count": 0,
      "outputs": []
    },
    {
      "metadata": {
        "id": "DI6ERZwQrZqf",
        "colab_type": "code",
        "colab": {
          "base_uri": "https://localhost:8080/",
          "height": 36
        },
        "outputId": "fbd11ab1-00ee-49a5-b9b3-3a0a37b472af"
      },
      "cell_type": "code",
      "source": [
        "\n",
        "model.evaluate_generator(val_data)"
      ],
      "execution_count": 17,
      "outputs": [
        {
          "output_type": "execute_result",
          "data": {
            "text/plain": [
              "[0.03590132296085358, 1.0]"
            ]
          },
          "metadata": {
            "tags": []
          },
          "execution_count": 17
        }
      ]
    },
    {
      "metadata": {
        "id": "Wel2Vx1MdlN4",
        "colab_type": "code",
        "colab": {
          "base_uri": "https://localhost:8080/",
          "height": 36
        },
        "outputId": "a34868ed-da67-41d2-9292-8782ddcfb283"
      },
      "cell_type": "code",
      "source": [
        "model.evaluate_generator(test_data)"
      ],
      "execution_count": 18,
      "outputs": [
        {
          "output_type": "execute_result",
          "data": {
            "text/plain": [
              "[0.3434002017363524, 0.8862179502462729]"
            ]
          },
          "metadata": {
            "tags": []
          },
          "execution_count": 18
        }
      ]
    },
    {
      "metadata": {
        "id": "IdmmFD4zeOGB",
        "colab_type": "code",
        "colab": {}
      },
      "cell_type": "code",
      "source": [
        ""
      ],
      "execution_count": 0,
      "outputs": []
    }
  ]
}